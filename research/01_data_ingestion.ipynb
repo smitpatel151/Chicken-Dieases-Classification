{
 "cells": [
  {
   "cell_type": "code",
   "execution_count": 1,
   "id": "initial_id",
   "metadata": {
    "collapsed": true,
    "ExecuteTime": {
     "end_time": "2023-08-29T10:59:41.859087Z",
     "start_time": "2023-08-29T10:59:41.856676Z"
    }
   },
   "outputs": [],
   "source": [
    "import os"
   ]
  },
  {
   "cell_type": "code",
   "execution_count": 2,
   "outputs": [
    {
     "data": {
      "text/plain": "'/Users/smitpatel/Desktop/Chicken-Dieases-Classification/research'"
     },
     "execution_count": 2,
     "metadata": {},
     "output_type": "execute_result"
    }
   ],
   "source": [
    "%pwd"
   ],
   "metadata": {
    "collapsed": false,
    "ExecuteTime": {
     "end_time": "2023-08-29T10:59:42.018233Z",
     "start_time": "2023-08-29T10:59:42.014386Z"
    }
   },
   "id": "3fba4e6c4759b3b9"
  },
  {
   "cell_type": "code",
   "execution_count": 3,
   "outputs": [],
   "source": [
    "os.chdir(\"../\")"
   ],
   "metadata": {
    "collapsed": false,
    "ExecuteTime": {
     "end_time": "2023-08-29T10:59:42.161226Z",
     "start_time": "2023-08-29T10:59:42.159372Z"
    }
   },
   "id": "73e807cf8f59b7c4"
  },
  {
   "cell_type": "code",
   "execution_count": 4,
   "outputs": [],
   "source": [
    "from dataclasses import dataclass\n",
    "from pathlib import Path\n",
    "\n",
    "\n",
    "@dataclass(frozen=True)\n",
    "class DataIngestionConfig:\n",
    "    root_dir: Path\n",
    "    source_URL: str\n",
    "    local_data_file: Path\n",
    "    unzip_dir: Path"
   ],
   "metadata": {
    "collapsed": false,
    "ExecuteTime": {
     "end_time": "2023-08-29T10:59:42.348035Z",
     "start_time": "2023-08-29T10:59:42.346656Z"
    }
   },
   "id": "c708036e1871ffae"
  },
  {
   "cell_type": "code",
   "execution_count": 5,
   "outputs": [],
   "source": [
    "\n",
    "from cnnClassifier.constant import *\n",
    "from cnnClassifier.utils.common import read_yaml, create_directories"
   ],
   "metadata": {
    "collapsed": false,
    "ExecuteTime": {
     "end_time": "2023-08-29T10:59:42.653024Z",
     "start_time": "2023-08-29T10:59:42.501603Z"
    }
   },
   "id": "d86a6a24eeadab5b"
  },
  {
   "cell_type": "code",
   "execution_count": 6,
   "outputs": [],
   "source": [
    "class ConfigurationManager:\n",
    "    def __init__(\n",
    "        self,\n",
    "        config_filepath = CONFIG_FILE_PATH,\n",
    "        params_filepath = PARAMS_FILE_PATH):\n",
    "\n",
    "        self.config = read_yaml(config_filepath)\n",
    "        self.params = read_yaml(params_filepath)\n",
    "\n",
    "        create_directories([self.config.artifacts_root])\n",
    "\n",
    "\n",
    "    \n",
    "    def get_data_ingestion_config(self) -> DataIngestionConfig:\n",
    "        config = self.config.data_ingestion\n",
    "\n",
    "        create_directories([config.root_dir,])\n",
    "\n",
    "        data_ingestion_config = DataIngestionConfig(\n",
    "            root_dir=config.root_dir,\n",
    "            source_URL=config.source_URL,\n",
    "            local_data_file=config.local_data_file,\n",
    "            unzip_dir=config.unzip_dir \n",
    "        )\n",
    "\n",
    "        return data_ingestion_config\n",
    "      "
   ],
   "metadata": {
    "collapsed": false,
    "ExecuteTime": {
     "end_time": "2023-08-29T10:59:42.714645Z",
     "start_time": "2023-08-29T10:59:42.710140Z"
    }
   },
   "id": "44472d46f0fb8842"
  },
  {
   "cell_type": "code",
   "execution_count": 7,
   "outputs": [],
   "source": [
    "import os\n",
    "import urllib.request as request\n",
    "import zipfile\n",
    "from cnnClassifier import logger\n",
    "from cnnClassifier.utils.common import get_size"
   ],
   "metadata": {
    "collapsed": false,
    "ExecuteTime": {
     "end_time": "2023-08-29T10:59:42.829731Z",
     "start_time": "2023-08-29T10:59:42.828070Z"
    }
   },
   "id": "fec298ee07acf57d"
  },
  {
   "cell_type": "code",
   "execution_count": 8,
   "outputs": [],
   "source": [
    "class DataIngestion:\n",
    "    def __init__(self, config: DataIngestionConfig):\n",
    "        self.config = config\n",
    "\n",
    "\n",
    "    \n",
    "    def download_file(self):\n",
    "        if not os.path.exists(self.config.local_data_file):\n",
    "            filename, headers = request.urlretrieve(\n",
    "                url = self.config.source_URL,\n",
    "                filename = self.config.local_data_file\n",
    "            )\n",
    "            logger.info(f\"{filename} download! with following info: \\n{headers}\")\n",
    "        else:\n",
    "            logger.info(f\"File already exists of size: {get_size(Path(self.config.local_data_file))}\")  \n",
    "\n",
    "\n",
    "    \n",
    "    def extract_zip_file(self):\n",
    "        \"\"\"\n",
    "        zip_file_path: str\n",
    "        Extracts the zip file into the data directory\n",
    "        Function returns None\n",
    "        \"\"\"\n",
    "        print(\"unzip = \",self.config.unzip_dir)\n",
    "        unzip_path = self.config.unzip_dir\n",
    "        print(\"unzip = \",unzip_path)\n",
    "        os.makedirs(unzip_path, exist_ok=True)\n",
    "        with zipfile.ZipFile(self.config.local_data_file, 'r') as zip_ref:\n",
    "            zip_ref.extractall(unzip_path)"
   ],
   "metadata": {
    "collapsed": false,
    "ExecuteTime": {
     "end_time": "2023-08-29T10:59:43.021142Z",
     "start_time": "2023-08-29T10:59:43.019250Z"
    }
   },
   "id": "4a3b9108ff1597bb"
  },
  {
   "cell_type": "code",
   "execution_count": 9,
   "outputs": [
    {
     "name": "stdout",
     "output_type": "stream",
     "text": [
      "1\n",
      "[2023-08-29 06:59:43,181: INFO: common: yaml file: config/config.yaml loaded successfully]\n",
      "[2023-08-29 06:59:43,182: INFO: common: yaml file: params.yaml loaded successfully]\n",
      "smit\n",
      "['artifacts']\n",
      "patel\n",
      "[2023-08-29 06:59:43,183: INFO: common: created directory at: artifacts]\n",
      "2\n"
     ]
    },
    {
     "ename": "AttributeError",
     "evalue": "'NoneType' object has no attribute 'root_dir'",
     "output_type": "error",
     "traceback": [
      "\u001B[0;31m---------------------------------------------------------------------------\u001B[0m",
      "\u001B[0;31mAttributeError\u001B[0m                            Traceback (most recent call last)",
      "Cell \u001B[0;32mIn[9], line 13\u001B[0m\n\u001B[1;32m     11\u001B[0m     data_ingestion\u001B[38;5;241m.\u001B[39mextract_zip_file()\n\u001B[1;32m     12\u001B[0m \u001B[38;5;28;01mexcept\u001B[39;00m \u001B[38;5;167;01mException\u001B[39;00m \u001B[38;5;28;01mas\u001B[39;00m e:\n\u001B[0;32m---> 13\u001B[0m     \u001B[38;5;28;01mraise\u001B[39;00m e\n",
      "Cell \u001B[0;32mIn[9], line 5\u001B[0m\n\u001B[1;32m      3\u001B[0m config \u001B[38;5;241m=\u001B[39m ConfigurationManager()\n\u001B[1;32m      4\u001B[0m \u001B[38;5;28mprint\u001B[39m(\u001B[38;5;241m2\u001B[39m)\n\u001B[0;32m----> 5\u001B[0m data_ingestion_config \u001B[38;5;241m=\u001B[39m \u001B[43mconfig\u001B[49m\u001B[38;5;241;43m.\u001B[39;49m\u001B[43mget_data_ingestion_config\u001B[49m\u001B[43m(\u001B[49m\u001B[43m)\u001B[49m\n\u001B[1;32m      6\u001B[0m \u001B[38;5;28mprint\u001B[39m(\u001B[38;5;241m3\u001B[39m)\n\u001B[1;32m      7\u001B[0m data_ingestion \u001B[38;5;241m=\u001B[39m DataIngestion(config\u001B[38;5;241m=\u001B[39mdata_ingestion_config)\n",
      "Cell \u001B[0;32mIn[6], line 17\u001B[0m, in \u001B[0;36mConfigurationManager.get_data_ingestion_config\u001B[0;34m(self)\u001B[0m\n\u001B[1;32m     14\u001B[0m \u001B[38;5;28;01mdef\u001B[39;00m \u001B[38;5;21mget_data_ingestion_config\u001B[39m(\u001B[38;5;28mself\u001B[39m) \u001B[38;5;241m-\u001B[39m\u001B[38;5;241m>\u001B[39m DataIngestionConfig:\n\u001B[1;32m     15\u001B[0m     config \u001B[38;5;241m=\u001B[39m \u001B[38;5;28mself\u001B[39m\u001B[38;5;241m.\u001B[39mconfig\u001B[38;5;241m.\u001B[39mdata_ingestion\n\u001B[0;32m---> 17\u001B[0m     create_directories([\u001B[43mconfig\u001B[49m\u001B[38;5;241;43m.\u001B[39;49m\u001B[43mroot_dir\u001B[49m,])\n\u001B[1;32m     19\u001B[0m     data_ingestion_config \u001B[38;5;241m=\u001B[39m DataIngestionConfig(\n\u001B[1;32m     20\u001B[0m         root_dir\u001B[38;5;241m=\u001B[39mconfig\u001B[38;5;241m.\u001B[39mroot_dir,\n\u001B[1;32m     21\u001B[0m         source_URL\u001B[38;5;241m=\u001B[39mconfig\u001B[38;5;241m.\u001B[39msource_URL,\n\u001B[1;32m     22\u001B[0m         local_data_file\u001B[38;5;241m=\u001B[39mconfig\u001B[38;5;241m.\u001B[39mlocal_data_file,\n\u001B[1;32m     23\u001B[0m         unzip_dir\u001B[38;5;241m=\u001B[39mconfig\u001B[38;5;241m.\u001B[39munzip_dir \n\u001B[1;32m     24\u001B[0m     )\n\u001B[1;32m     26\u001B[0m     \u001B[38;5;28;01mreturn\u001B[39;00m data_ingestion_config\n",
      "\u001B[0;31mAttributeError\u001B[0m: 'NoneType' object has no attribute 'root_dir'"
     ]
    }
   ],
   "source": [
    "try:\n",
    "    print(1)\n",
    "    config = ConfigurationManager()\n",
    "    print(2)\n",
    "    data_ingestion_config = config.get_data_ingestion_config()\n",
    "    print(3)\n",
    "    data_ingestion = DataIngestion(config=data_ingestion_config)\n",
    "    print(4)\n",
    "    data_ingestion.download_file()\n",
    "    print(5)\n",
    "    data_ingestion.extract_zip_file()\n",
    "except Exception as e:\n",
    "    raise e"
   ],
   "metadata": {
    "collapsed": false,
    "ExecuteTime": {
     "end_time": "2023-08-29T10:59:43.342595Z",
     "start_time": "2023-08-29T10:59:43.179377Z"
    }
   },
   "id": "9a0cfc3427026a58"
  },
  {
   "cell_type": "code",
   "execution_count": 9,
   "outputs": [],
   "source": [],
   "metadata": {
    "collapsed": false,
    "ExecuteTime": {
     "end_time": "2023-08-29T10:59:43.352161Z",
     "start_time": "2023-08-29T10:59:43.350111Z"
    }
   },
   "id": "1f049d858bd853e4"
  },
  {
   "cell_type": "code",
   "execution_count": 9,
   "outputs": [],
   "source": [],
   "metadata": {
    "collapsed": false,
    "ExecuteTime": {
     "end_time": "2023-08-29T10:59:43.546604Z",
     "start_time": "2023-08-29T10:59:43.544758Z"
    }
   },
   "id": "2056c0262535c2c1"
  },
  {
   "cell_type": "code",
   "execution_count": null,
   "outputs": [],
   "source": [],
   "metadata": {
    "collapsed": false
   },
   "id": "5b43cb5c7f37e5a7"
  }
 ],
 "metadata": {
  "kernelspec": {
   "display_name": "Python 3",
   "language": "python",
   "name": "python3"
  },
  "language_info": {
   "codemirror_mode": {
    "name": "ipython",
    "version": 2
   },
   "file_extension": ".py",
   "mimetype": "text/x-python",
   "name": "python",
   "nbconvert_exporter": "python",
   "pygments_lexer": "ipython2",
   "version": "2.7.6"
  }
 },
 "nbformat": 4,
 "nbformat_minor": 5
}
